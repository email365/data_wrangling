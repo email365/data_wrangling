{
 "cells": [
  {
   "cell_type": "code",
   "execution_count": null,
   "metadata": {},
   "outputs": [],
   "source": [
    "import numpy as np\n",
    "import pandas as pd"
   ]
  },
  {
   "cell_type": "code",
   "execution_count": null,
   "metadata": {},
   "outputs": [],
   "source": [
    "# import dataset roomstatinfo.csv\n",
    "room_stat = pd.read_csv('roomstatinfo.csv')\n",
    "room_stat.head()"
   ]
  },
  {
   "cell_type": "code",
   "execution_count": null,
   "metadata": {},
   "outputs": [],
   "source": [
    "# change datetime column to timestamp, groupby week,count meeting times\n",
    "room_stat[\"startTime\"] = pd.to_datetime(room_stat['startTime'])\n",
    "group_room_stat = room_stat.set_index('startTime').groupby([ \"CompanyName\"]).resample(\"W\").size().to_frame(name = 'count').reset_index()\n",
    "#group_room_stat"
   ]
  },
  {
   "cell_type": "code",
   "execution_count": null,
   "metadata": {},
   "outputs": [],
   "source": [
    "chair = pd.read_csv('roomlogchair.csv')\n",
    "#chair.head()"
   ]
  },
  {
   "cell_type": "code",
   "execution_count": null,
   "metadata": {},
   "outputs": [],
   "source": [
    "# change datetime column to timestamp, groupby week,count meeting times\n",
    "chair[\"EnterTime\"] = pd.to_datetime(chair[\"EnterTime\"])\n",
    "group_chair = chair.set_index('EnterTime').groupby([\"CompanyName\"]).resample(\"W\").size().to_frame(name = 'count').reset_index()\n",
    "#group_chair"
   ]
  },
  {
   "cell_type": "code",
   "execution_count": null,
   "metadata": {},
   "outputs": [],
   "source": [
    "user = pd.read_csv('userlog.csv')\n",
    "#user.head()"
   ]
  },
  {
   "cell_type": "code",
   "execution_count": null,
   "metadata": {
    "scrolled": true
   },
   "outputs": [],
   "source": [
    "# change datetime column to timestamp, groupby week,count meeting times\n",
    "user[\"LogTime\"] = pd.to_datetime(user['LogTime'])\n",
    "group_user = user.set_index('LogTime').groupby([\"CompanyName\"]).resample(\"W\").size().to_frame(name = 'count').reset_index()\n",
    "#group_user"
   ]
  },
  {
   "cell_type": "code",
   "execution_count": null,
   "metadata": {},
   "outputs": [],
   "source": [
    "# merge room_stat df with user df\n",
    "group_stat_user_merge = pd.merge(group_room_stat,group_user,how = 'left',left_on = ['CompanyName','startTime'],right_on = ['CompanyName','LogTime'])\n",
    "#group_stat_user_merge"
   ]
  },
  {
   "cell_type": "code",
   "execution_count": null,
   "metadata": {},
   "outputs": [],
   "source": [
    "# merge again with chair df\n",
    "group_merge_all = pd.merge(group_stat_user_merge,group_chair,how = 'left',left_on = ['CompanyName','startTime'],right_on = ['CompanyName','EnterTime'])\n",
    "#group_merge_all"
   ]
  },
  {
   "cell_type": "code",
   "execution_count": null,
   "metadata": {},
   "outputs": [],
   "source": [
    "group_merge_all.rename(index=str, columns={\"count_x\": \"meeting_count\", \"count_y\": \"key_user_count\",\"count\": \"chair_count\"},inplace=True)\n",
    "#group_merge_all"
   ]
  },
  {
   "cell_type": "code",
   "execution_count": null,
   "metadata": {},
   "outputs": [],
   "source": [
    "group_merge_all.rename(index=str, columns={\"meeting_count\": \"会议次数\", \"key_user_count\": \"操作员登陆次数\",\"chair_count\": \"主席登陆次数\"},inplace=True)\n",
    "#group_merge_all"
   ]
  },
  {
   "cell_type": "code",
   "execution_count": null,
   "metadata": {},
   "outputs": [],
   "source": [
    "# change datetime column to string\n",
    "group_merge_all['startTime'] = group_merge_all['startTime'].apply(str)\n",
    "group_merge_all['LogTime'] = group_merge_all['LogTime'].apply(str)\n",
    "group_merge_all['EnterTime'] = group_merge_all['EnterTime'].apply(str)\n",
    "type(group_merge_all['EnterTime'][10])"
   ]
  },
  {
   "cell_type": "code",
   "execution_count": null,
   "metadata": {},
   "outputs": [],
   "source": [
    "# replace 0 time\n",
    "group_merge_all['startTime'] = group_merge_all['startTime'].str.replace(' 00:00:00','')\n",
    "group_merge_all['LogTime'] = group_merge_all['LogTime'].str.replace(' 00:00:00','')\n",
    "group_merge_all['EnterTime'] = group_merge_all['EnterTime'].str.replace(' 00:00:00','')\n",
    "group_merge_all['EnterTime'] = group_merge_all['EnterTime'].str.replace('NaT','0')\n",
    "group_merge_all['LogTime'] = group_merge_all['LogTime'].str.replace('NaT','0')\n",
    "#group_merge_all"
   ]
  },
  {
   "cell_type": "code",
   "execution_count": null,
   "metadata": {},
   "outputs": [],
   "source": [
    "# impute NaT NaN\n",
    "group_merge_all['主席登陆次数'] = group_merge_all['主席登陆次数'].fillna(0)\n",
    "group_merge_all['操作员登陆次数'] = group_merge_all['操作员登陆次数'].fillna(0)\n",
    "#group_merge_all"
   ]
  },
  {
   "cell_type": "code",
   "execution_count": null,
   "metadata": {},
   "outputs": [],
   "source": [
    "# check correlation\n",
    "group_merge_all.corr()"
   ]
  },
  {
   "cell_type": "code",
   "execution_count": null,
   "metadata": {},
   "outputs": [],
   "source": [
    "to_delete1 = ['代理商报备','项目，已经额并','￥','渠道成交','成交客户','已成单客户',\n",
    "              '已成单','已成单客户','成单客户','成单','已成交客户',\n",
    "              '成交客户','已成交','成交','直客询价','|','项目合并','渠道报备','山东会销','渠道商报备','?','？','【】','()','（）','(成)','（客户）','中间商']\n",
    "to_delete2 = ['（','）','(',')']\n",
    "\n",
    "for item in to_delete2:\n",
    "    group_merge_all.CompanyName = group_merge_all.CompanyName.str.replace(item,'')"
   ]
  },
  {
   "cell_type": "code",
   "execution_count": null,
   "metadata": {},
   "outputs": [],
   "source": [
    "group_merge_all.to_csv('F:/hst_sync_2017/source_data/CRM_data/CRM_customer_report/group_merge_all.csv')"
   ]
  },
  {
   "cell_type": "code",
   "execution_count": null,
   "metadata": {},
   "outputs": [],
   "source": [
    "# correlation pair plot\n",
    "import matplotlib as mpl\n",
    "mpl.rcParams['font.serif'] = ['SimHei']\n",
    "import seaborn as sns\n",
    "sns.set_style(\"darkgrid\",{\"font.sans-serif\":['simhei', 'Arial']})\n",
    "%matplotlib inline\n",
    "\n",
    "#sns.pairplot(group_merge_all)"
   ]
  },
  {
   "cell_type": "code",
   "execution_count": null,
   "metadata": {},
   "outputs": [],
   "source": [
    "# import crm customer record data\n",
    "crm = pd.read_csv('F:/hst_sync_2017/source_data/CRM_data/CRM_customer_report/customer_report.csv')\n",
    "crm.head()"
   ]
  },
  {
   "cell_type": "code",
   "execution_count": null,
   "metadata": {},
   "outputs": [],
   "source": [
    "# change datetime column to timestamp\n",
    "# groupby week,count customer report times\n",
    "crm[\"售后时间\"] = pd.to_datetime(crm[\"售后时间\"])\n",
    "group_crm= crm.set_index('售后时间').groupby([\"关联客户\"]).resample(\"W\").size().to_frame(name = 'count').reset_index()\n",
    "group_crm.head()"
   ]
  },
  {
   "cell_type": "code",
   "execution_count": null,
   "metadata": {},
   "outputs": [],
   "source": [
    "to_delete1 = ['代理商报备','项目，已经额并','￥','渠道成交','成交客户','已成单客户',\n",
    "              '已成单','已成单客户','成单客户','成单','已成交客户',\n",
    "              '成交客户','已成交','成交','直客询价','|','项目合并','渠道报备','山东会销','渠道商报备','?','？','【】','()','（）','(成)','（客户）','中间商']\n",
    "to_delete2 = ['（','）','(',')']\n",
    "for item in to_delete1:\n",
    "    group_crm['关联客户'] = group_crm['关联客户'].str.replace(item,'')\n",
    "for item in to_delete2:\n",
    "    group_crm['关联客户'] = group_crm['关联客户'].str.replace(item,'')\n",
    "group_crm.关联客户.value_counts()"
   ]
  },
  {
   "cell_type": "code",
   "execution_count": null,
   "metadata": {},
   "outputs": [],
   "source": [
    "group_crm.to_csv('F:/hst_sync_2017/source_data/CRM_data/CRM_customer_report/group_crm.csv')"
   ]
  },
  {
   "cell_type": "code",
   "execution_count": null,
   "metadata": {},
   "outputs": [],
   "source": []
  }
 ],
 "metadata": {
  "kernelspec": {
   "display_name": "Python 3",
   "language": "python",
   "name": "python3"
  },
  "language_info": {
   "codemirror_mode": {
    "name": "ipython",
    "version": 3
   },
   "file_extension": ".py",
   "mimetype": "text/x-python",
   "name": "python",
   "nbconvert_exporter": "python",
   "pygments_lexer": "ipython3",
   "version": "3.6.4"
  }
 },
 "nbformat": 4,
 "nbformat_minor": 2
}
