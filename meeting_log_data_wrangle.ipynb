{
 "cells": [
  {
   "cell_type": "code",
   "execution_count": 1,
   "metadata": {},
   "outputs": [],
   "source": [
    "import numpy as pn\n",
    "import pandas as pd"
   ]
  },
  {
   "cell_type": "code",
   "execution_count": 2,
   "metadata": {},
   "outputs": [
    {
     "data": {
      "text/html": [
       "<div>\n",
       "<style scoped>\n",
       "    .dataframe tbody tr th:only-of-type {\n",
       "        vertical-align: middle;\n",
       "    }\n",
       "\n",
       "    .dataframe tbody tr th {\n",
       "        vertical-align: top;\n",
       "    }\n",
       "\n",
       "    .dataframe thead th {\n",
       "        text-align: right;\n",
       "    }\n",
       "</style>\n",
       "<table border=\"1\" class=\"dataframe\">\n",
       "  <thead>\n",
       "    <tr style=\"text-align: right;\">\n",
       "      <th></th>\n",
       "      <th>CompanyName</th>\n",
       "      <th>记录数</th>\n",
       "      <th>companyId</th>\n",
       "      <th>depId</th>\n",
       "      <th>duration</th>\n",
       "      <th>endTime</th>\n",
       "      <th>name</th>\n",
       "      <th>roomId</th>\n",
       "      <th>startTime</th>\n",
       "      <th>userCount</th>\n",
       "    </tr>\n",
       "  </thead>\n",
       "  <tbody>\n",
       "    <tr>\n",
       "      <th>0</th>\n",
       "      <td>长寿村</td>\n",
       "      <td>1</td>\n",
       "      <td>130261</td>\n",
       "      <td>154963</td>\n",
       "      <td>16099</td>\n",
       "      <td>2017/3/5 8:25:28</td>\n",
       "      <td>NaN</td>\n",
       "      <td>280025</td>\n",
       "      <td>2017/3/5 3:57:09</td>\n",
       "      <td>4</td>\n",
       "    </tr>\n",
       "    <tr>\n",
       "      <th>1</th>\n",
       "      <td>金日鸿雁</td>\n",
       "      <td>1</td>\n",
       "      <td>126765</td>\n",
       "      <td>151915</td>\n",
       "      <td>1</td>\n",
       "      <td>2017/3/5 5:33:38</td>\n",
       "      <td>NaN</td>\n",
       "      <td>270149</td>\n",
       "      <td>2017/3/5 5:33:37</td>\n",
       "      <td>0</td>\n",
       "    </tr>\n",
       "    <tr>\n",
       "      <th>2</th>\n",
       "      <td>金日鸿雁</td>\n",
       "      <td>1</td>\n",
       "      <td>126765</td>\n",
       "      <td>151915</td>\n",
       "      <td>43</td>\n",
       "      <td>2017/3/5 5:34:29</td>\n",
       "      <td>NaN</td>\n",
       "      <td>270149</td>\n",
       "      <td>2017/3/5 5:33:46</td>\n",
       "      <td>0</td>\n",
       "    </tr>\n",
       "    <tr>\n",
       "      <th>3</th>\n",
       "      <td>福建源和康商贸有限公司</td>\n",
       "      <td>1</td>\n",
       "      <td>132015</td>\n",
       "      <td>156785</td>\n",
       "      <td>8044</td>\n",
       "      <td>2017/3/5 8:09:54</td>\n",
       "      <td>NaN</td>\n",
       "      <td>284749</td>\n",
       "      <td>2017/3/5 5:55:50</td>\n",
       "      <td>4</td>\n",
       "    </tr>\n",
       "    <tr>\n",
       "      <th>4</th>\n",
       "      <td>伊美时健康生活馆</td>\n",
       "      <td>1</td>\n",
       "      <td>132379</td>\n",
       "      <td>157155</td>\n",
       "      <td>36408</td>\n",
       "      <td>2017/3/5 16:52:11</td>\n",
       "      <td>周雪萍</td>\n",
       "      <td>285163</td>\n",
       "      <td>2017/3/5 6:45:23</td>\n",
       "      <td>19</td>\n",
       "    </tr>\n",
       "  </tbody>\n",
       "</table>\n",
       "</div>"
      ],
      "text/plain": [
       "   CompanyName  记录数  companyId   depId  duration            endTime name  \\\n",
       "0          长寿村    1     130261  154963     16099   2017/3/5 8:25:28  NaN   \n",
       "1         金日鸿雁    1     126765  151915         1   2017/3/5 5:33:38  NaN   \n",
       "2         金日鸿雁    1     126765  151915        43   2017/3/5 5:34:29  NaN   \n",
       "3  福建源和康商贸有限公司    1     132015  156785      8044   2017/3/5 8:09:54  NaN   \n",
       "4     伊美时健康生活馆    1     132379  157155     36408  2017/3/5 16:52:11  周雪萍   \n",
       "\n",
       "   roomId         startTime  userCount  \n",
       "0  280025  2017/3/5 3:57:09          4  \n",
       "1  270149  2017/3/5 5:33:37          0  \n",
       "2  270149  2017/3/5 5:33:46          0  \n",
       "3  284749  2017/3/5 5:55:50          4  \n",
       "4  285163  2017/3/5 6:45:23         19  "
      ]
     },
     "execution_count": 2,
     "metadata": {},
     "output_type": "execute_result"
    }
   ],
   "source": [
    "room_stat = pd.read_csv('roomstatinfo.csv')\n",
    "room_stat.head()"
   ]
  },
  {
   "cell_type": "code",
   "execution_count": 3,
   "metadata": {},
   "outputs": [],
   "source": [
    "room_stat[\"startTime\"] = pd.to_datetime(room_stat['startTime'])\n",
    "group_room_stat = room_stat.set_index('startTime').groupby([ \"CompanyName\"]).resample(\"W\").size().to_frame(name = 'count').reset_index()\n",
    "#group_room_stat"
   ]
  },
  {
   "cell_type": "code",
   "execution_count": 4,
   "metadata": {},
   "outputs": [],
   "source": [
    "chair = pd.read_csv('roomlogchair.csv')\n",
    "#chair.head()"
   ]
  },
  {
   "cell_type": "code",
   "execution_count": 5,
   "metadata": {},
   "outputs": [],
   "source": [
    "chair = pd.read_csv('roomlogchair.csv')\n",
    "chair[\"EnterTime\"] = pd.to_datetime(chair[\"EnterTime\"])\n",
    "group_chair = chair.set_index('EnterTime').groupby([\"CompanyName\"]).resample(\"W\").size().to_frame(name = 'count').reset_index()\n",
    "#group_chair"
   ]
  },
  {
   "cell_type": "code",
   "execution_count": 6,
   "metadata": {
    "scrolled": true
   },
   "outputs": [],
   "source": [
    "user = pd.read_csv('userlog.csv')\n",
    "user[\"LogTime\"] = pd.to_datetime(user['LogTime'])\n",
    "group_user = user.set_index('LogTime').groupby([\"CompanyName\"]).resample(\"W\").size().to_frame(name = 'count').reset_index()\n",
    "#group_user"
   ]
  },
  {
   "cell_type": "code",
   "execution_count": 7,
   "metadata": {},
   "outputs": [],
   "source": [
    "group_stat_user_merge = pd.merge(group_room_stat,group_user,how = 'left',left_on = ['CompanyName','startTime'],right_on = ['CompanyName','LogTime'])\n",
    "#group_stat_user_merge"
   ]
  },
  {
   "cell_type": "code",
   "execution_count": 8,
   "metadata": {},
   "outputs": [],
   "source": [
    "group_merge_all = pd.merge(group_stat_user_merge,group_chair,how = 'left',left_on = ['CompanyName','startTime'],right_on = ['CompanyName','EnterTime'])\n",
    "#group_merge_all"
   ]
  },
  {
   "cell_type": "code",
   "execution_count": 9,
   "metadata": {},
   "outputs": [],
   "source": [
    "group_merge_all.rename(index=str, columns={\"count_x\": \"meeting_count\", \"count_y\": \"key_user_count\",\"count\": \"chair_count\"},inplace=True)\n",
    "#group_merge_all"
   ]
  },
  {
   "cell_type": "code",
   "execution_count": 10,
   "metadata": {},
   "outputs": [],
   "source": [
    "group_merge_all.rename(index=str, columns={\"meeting_count\": \"会议次数\", \"key_user_count\": \"操作员登陆次数\",\"chair_count\": \"主席登陆次数\"},inplace=True)\n",
    "#group_merge_all"
   ]
  },
  {
   "cell_type": "code",
   "execution_count": 11,
   "metadata": {},
   "outputs": [
    {
     "data": {
      "text/plain": [
       "str"
      ]
     },
     "execution_count": 11,
     "metadata": {},
     "output_type": "execute_result"
    }
   ],
   "source": [
    "group_merge_all['startTime'] = group_merge_all['startTime'].apply(str)\n",
    "group_merge_all['LogTime'] = group_merge_all['LogTime'].apply(str)\n",
    "group_merge_all['EnterTime'] = group_merge_all['EnterTime'].apply(str)\n",
    "type(group_merge_all['EnterTime'][10])"
   ]
  },
  {
   "cell_type": "code",
   "execution_count": 12,
   "metadata": {},
   "outputs": [],
   "source": [
    "group_merge_all['startTime'] = group_merge_all['startTime'].str.replace(' 00:00:00','')\n",
    "group_merge_all['LogTime'] = group_merge_all['LogTime'].str.replace(' 00:00:00','')\n",
    "group_merge_all['EnterTime'] = group_merge_all['EnterTime'].str.replace(' 00:00:00','')\n",
    "group_merge_all['EnterTime'] = group_merge_all['EnterTime'].str.replace('NaT','0')\n",
    "group_merge_all['LogTime'] = group_merge_all['LogTime'].str.replace('NaT','0')\n",
    "#group_merge_all"
   ]
  },
  {
   "cell_type": "code",
   "execution_count": 13,
   "metadata": {},
   "outputs": [],
   "source": [
    "group_merge_all['主席登陆次数'] = group_merge_all['主席登陆次数'].fillna(0)\n",
    "group_merge_all['操作员登陆次数'] = group_merge_all['操作员登陆次数'].fillna(0)\n",
    "#group_merge_all"
   ]
  },
  {
   "cell_type": "code",
   "execution_count": 14,
   "metadata": {},
   "outputs": [
    {
     "data": {
      "text/html": [
       "<div>\n",
       "<style scoped>\n",
       "    .dataframe tbody tr th:only-of-type {\n",
       "        vertical-align: middle;\n",
       "    }\n",
       "\n",
       "    .dataframe tbody tr th {\n",
       "        vertical-align: top;\n",
       "    }\n",
       "\n",
       "    .dataframe thead th {\n",
       "        text-align: right;\n",
       "    }\n",
       "</style>\n",
       "<table border=\"1\" class=\"dataframe\">\n",
       "  <thead>\n",
       "    <tr style=\"text-align: right;\">\n",
       "      <th></th>\n",
       "      <th>会议次数</th>\n",
       "      <th>操作员登陆次数</th>\n",
       "      <th>主席登陆次数</th>\n",
       "    </tr>\n",
       "  </thead>\n",
       "  <tbody>\n",
       "    <tr>\n",
       "      <th>会议次数</th>\n",
       "      <td>1.000000</td>\n",
       "      <td>0.703298</td>\n",
       "      <td>0.755498</td>\n",
       "    </tr>\n",
       "    <tr>\n",
       "      <th>操作员登陆次数</th>\n",
       "      <td>0.703298</td>\n",
       "      <td>1.000000</td>\n",
       "      <td>0.485271</td>\n",
       "    </tr>\n",
       "    <tr>\n",
       "      <th>主席登陆次数</th>\n",
       "      <td>0.755498</td>\n",
       "      <td>0.485271</td>\n",
       "      <td>1.000000</td>\n",
       "    </tr>\n",
       "  </tbody>\n",
       "</table>\n",
       "</div>"
      ],
      "text/plain": [
       "             会议次数   操作员登陆次数    主席登陆次数\n",
       "会议次数     1.000000  0.703298  0.755498\n",
       "操作员登陆次数  0.703298  1.000000  0.485271\n",
       "主席登陆次数   0.755498  0.485271  1.000000"
      ]
     },
     "execution_count": 14,
     "metadata": {},
     "output_type": "execute_result"
    }
   ],
   "source": [
    "group_merge_all.corr()"
   ]
  },
  {
   "cell_type": "code",
   "execution_count": 15,
   "metadata": {},
   "outputs": [],
   "source": [
    "import matplotlib as mpl\n",
    "mpl.rcParams['font.serif'] = ['SimHei']\n",
    "import seaborn as sns\n",
    "sns.set_style(\"darkgrid\",{\"font.sans-serif\":['simhei', 'Arial']})\n",
    "%matplotlib inline\n",
    "\n",
    "#sns.pairplot(group_merge_all)"
   ]
  },
  {
   "cell_type": "code",
   "execution_count": null,
   "metadata": {},
   "outputs": [],
   "source": []
  }
 ],
 "metadata": {
  "kernelspec": {
   "display_name": "Python 3",
   "language": "python",
   "name": "python3"
  },
  "language_info": {
   "codemirror_mode": {
    "name": "ipython",
    "version": 3
   },
   "file_extension": ".py",
   "mimetype": "text/x-python",
   "name": "python",
   "nbconvert_exporter": "python",
   "pygments_lexer": "ipython3",
   "version": "3.6.4"
  }
 },
 "nbformat": 4,
 "nbformat_minor": 2
}
