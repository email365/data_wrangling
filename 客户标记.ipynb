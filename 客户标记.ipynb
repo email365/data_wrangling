{
 "cells": [
  {
   "cell_type": "code",
   "execution_count": null,
   "metadata": {},
   "outputs": [],
   "source": [
    "import pandas as pd\n",
    "import numpy as np\n",
    "import dash\n",
    "import mysql.connector\n",
    "%matplotlib inline\n",
    "import matplotlib.pyplot as plt\n",
    "import seaborn as sns\n",
    "sns.set(color_codes=True)"
   ]
  },
  {
   "cell_type": "code",
   "execution_count": null,
   "metadata": {},
   "outputs": [],
   "source": [
    "conn = mysql.connector.Connect(user='***', password='***',\n",
    "                              host='***',\n",
    "                              database='***')\n",
    "c = conn.cursor()\n",
    "c.execute(\"SHOW TABLES\")\n",
    "tables = c.fetchall()\n",
    "tables"
   ]
  },
  {
   "cell_type": "code",
   "execution_count": null,
   "metadata": {},
   "outputs": [],
   "source": [
    "query = (\"SELECT * from rs_2017_roomstatinfo \")"
   ]
  },
  {
   "cell_type": "code",
   "execution_count": null,
   "metadata": {},
   "outputs": [],
   "source": [
    "df = pd.read_sql(query, conn)\n",
    "df.shape"
   ]
  },
  {
   "cell_type": "code",
   "execution_count": null,
   "metadata": {},
   "outputs": [],
   "source": [
    "print(list(df))"
   ]
  },
  {
   "cell_type": "code",
   "execution_count": null,
   "metadata": {},
   "outputs": [],
   "source": [
    "conn.close()"
   ]
  },
  {
   "cell_type": "code",
   "execution_count": null,
   "metadata": {},
   "outputs": [],
   "source": [
    "df.head()"
   ]
  },
  {
   "cell_type": "code",
   "execution_count": null,
   "metadata": {},
   "outputs": [],
   "source": [
    "# df.startTime = pd.to_datetime(df.startTime, format='%d%b%Y:%H:%M:%S.%f')\n",
    "\n",
    "type(df.startTime[1])"
   ]
  },
  {
   "cell_type": "code",
   "execution_count": null,
   "metadata": {},
   "outputs": [],
   "source": [
    "print(df.startTime.max())\n",
    "print(df.startTime.min())"
   ]
  },
  {
   "cell_type": "code",
   "execution_count": null,
   "metadata": {},
   "outputs": [],
   "source": [
    "df['meeting_minutes'] = (df.duration/60).round(1)\n",
    "df.head()"
   ]
  },
  {
   "cell_type": "code",
   "execution_count": null,
   "metadata": {},
   "outputs": [],
   "source": [
    "df['date'] = df.startTime.map(lambda x: x.strftime('%Y-%m'))\n",
    "df.head()"
   ]
  },
  {
   "cell_type": "code",
   "execution_count": null,
   "metadata": {},
   "outputs": [],
   "source": [
    "%%time\n",
    "def f(row):\n",
    "    if row['meeting_minutes'] >= 30 and row['userCount'] > 2:\n",
    "        val = 1\n",
    "    else:\n",
    "        val = 0\n",
    "    return val\n",
    "\n",
    "df['会议是否达标'] = df.apply(f, axis=1)\n",
    "display(df.head())"
   ]
  },
  {
   "cell_type": "code",
   "execution_count": null,
   "metadata": {},
   "outputs": [],
   "source": [
    "df_gb_CustomerName = df.groupby(['CompanyName', 'date']).agg({\n",
    "    'duration': [max], \n",
    "    'userCount':  [max], \n",
    "    'CompanyName': 'count',\n",
    "    '会议是否达标':'sum'\n",
    "})\n",
    "df_gb_CustomerName.head()"
   ]
  },
  {
   "cell_type": "code",
   "execution_count": null,
   "metadata": {},
   "outputs": [],
   "source": [
    "df_gb_CustomerName.columns = df_gb_CustomerName.columns.droplevel(level=0)\n",
    "df_gb_CustomerName = df_gb_CustomerName.rename(columns={\"max\": \"max_duration\", \"max\": \"max_userCount\", \"count\": \"meeting_count\",\"sum\": \"达标会议_sum\"})\n",
    "df_gb_CustomerName = df_gb_CustomerName.reset_index()\n",
    "df_gb_CustomerName.head(20)"
   ]
  },
  {
   "cell_type": "code",
   "execution_count": null,
   "metadata": {},
   "outputs": [],
   "source": [
    "df_gb_CustomerName['月环比增长率'] = ((df_gb_CustomerName['meeting_count']-df_gb_CustomerName.groupby('CompanyName')['meeting_count'].shift()) / \n",
    "                                df_gb_CustomerName.groupby('CompanyName')['meeting_count'].shift()).round(2)\n",
    "df_gb_CustomerName.head(20)"
   ]
  },
  {
   "cell_type": "code",
   "execution_count": null,
   "metadata": {},
   "outputs": [],
   "source": [
    "df_gb_CustomerName.to_csv('test.csv',index=False)"
   ]
  }
 ],
 "metadata": {
  "kernelspec": {
   "display_name": "Python 3",
   "language": "python",
   "name": "python3"
  },
  "language_info": {
   "codemirror_mode": {
    "name": "ipython",
    "version": 3
   },
   "file_extension": ".py",
   "mimetype": "text/x-python",
   "name": "python",
   "nbconvert_exporter": "python",
   "pygments_lexer": "ipython3",
   "version": "3.6.4"
  }
 },
 "nbformat": 4,
 "nbformat_minor": 2
}
