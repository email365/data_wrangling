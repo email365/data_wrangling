{
 "cells": [
  {
   "cell_type": "code",
   "execution_count": 1,
   "metadata": {},
   "outputs": [],
   "source": [
    "import pandas as pd\n",
    "import numpy as np\n",
    "import urllib"
   ]
  },
  {
   "cell_type": "code",
   "execution_count": 2,
   "metadata": {},
   "outputs": [
    {
     "data": {
      "text/html": [
       "<div>\n",
       "<style scoped>\n",
       "    .dataframe tbody tr th:only-of-type {\n",
       "        vertical-align: middle;\n",
       "    }\n",
       "\n",
       "    .dataframe tbody tr th {\n",
       "        vertical-align: top;\n",
       "    }\n",
       "\n",
       "    .dataframe thead th {\n",
       "        text-align: right;\n",
       "    }\n",
       "</style>\n",
       "<table border=\"1\" class=\"dataframe\">\n",
       "  <thead>\n",
       "    <tr style=\"text-align: right;\">\n",
       "      <th></th>\n",
       "      <th>记录数</th>\n",
       "      <th>Sheet</th>\n",
       "      <th>Table Name</th>\n",
       "      <th>姓名</th>\n",
       "      <th>操作IP</th>\n",
       "      <th>操作地址</th>\n",
       "      <th>操作时间</th>\n",
       "      <th>操作类型</th>\n",
       "      <th>操作系统</th>\n",
       "      <th>浏览器</th>\n",
       "      <th>用户名</th>\n",
       "    </tr>\n",
       "  </thead>\n",
       "  <tbody>\n",
       "    <tr>\n",
       "      <th>0</th>\n",
       "      <td>1</td>\n",
       "      <td>表1</td>\n",
       "      <td>表1</td>\n",
       "      <td>Erik</td>\n",
       "      <td>192.168.4.5</td>\n",
       "      <td>http://192.168.1.30:88/SYSA/checkin2.asp?forms...</td>\n",
       "      <td>2017-11-29 20:00:22</td>\n",
       "      <td>登陆系统</td>\n",
       "      <td>NaN</td>\n",
       "      <td>NaN</td>\n",
       "      <td>erik</td>\n",
       "    </tr>\n",
       "    <tr>\n",
       "      <th>1</th>\n",
       "      <td>1</td>\n",
       "      <td>表1</td>\n",
       "      <td>表1</td>\n",
       "      <td>Erik</td>\n",
       "      <td>192.168.4.5</td>\n",
       "      <td>http://192.168.1.30:88/SYSA/checkin2.asp?forms...</td>\n",
       "      <td>2017-11-30 14:12:39</td>\n",
       "      <td>登陆系统</td>\n",
       "      <td>NaN</td>\n",
       "      <td>NaN</td>\n",
       "      <td>erik</td>\n",
       "    </tr>\n",
       "  </tbody>\n",
       "</table>\n",
       "</div>"
      ],
      "text/plain": [
       "   记录数 Sheet Table Name    姓名         操作IP  \\\n",
       "0    1    表1         表1  Erik  192.168.4.5   \n",
       "1    1    表1         表1  Erik  192.168.4.5   \n",
       "\n",
       "                                                操作地址                 操作时间  \\\n",
       "0  http://192.168.1.30:88/SYSA/checkin2.asp?forms...  2017-11-29 20:00:22   \n",
       "1  http://192.168.1.30:88/SYSA/checkin2.asp?forms...  2017-11-30 14:12:39   \n",
       "\n",
       "   操作类型 操作系统  浏览器   用户名  \n",
       "0  登陆系统  NaN  NaN  erik  \n",
       "1  登陆系统  NaN  NaN  erik  "
      ]
     },
     "execution_count": 2,
     "metadata": {},
     "output_type": "execute_result"
    }
   ],
   "source": [
    "#import dataset\n",
    "df = pd.read_csv('2017_11.csv')\n",
    "df.head(2)"
   ]
  },
  {
   "cell_type": "code",
   "execution_count": 3,
   "metadata": {},
   "outputs": [
    {
     "data": {
      "text/plain": [
       "(226603, 12)"
      ]
     },
     "execution_count": 3,
     "metadata": {},
     "output_type": "execute_result"
    }
   ],
   "source": [
    "#duplicate url column for further data wrangling\n",
    "df['url']=df['操作地址']\n",
    "df.shape"
   ]
  },
  {
   "cell_type": "code",
   "execution_count": 4,
   "metadata": {},
   "outputs": [
    {
     "data": {
      "text/html": [
       "<div>\n",
       "<style scoped>\n",
       "    .dataframe tbody tr th:only-of-type {\n",
       "        vertical-align: middle;\n",
       "    }\n",
       "\n",
       "    .dataframe tbody tr th {\n",
       "        vertical-align: top;\n",
       "    }\n",
       "\n",
       "    .dataframe thead th {\n",
       "        text-align: right;\n",
       "    }\n",
       "</style>\n",
       "<table border=\"1\" class=\"dataframe\">\n",
       "  <thead>\n",
       "    <tr style=\"text-align: right;\">\n",
       "      <th></th>\n",
       "      <th>记录数</th>\n",
       "      <th>Sheet</th>\n",
       "      <th>Table Name</th>\n",
       "      <th>姓名</th>\n",
       "      <th>操作IP</th>\n",
       "      <th>操作地址</th>\n",
       "      <th>操作时间</th>\n",
       "      <th>操作类型</th>\n",
       "      <th>操作系统</th>\n",
       "      <th>浏览器</th>\n",
       "      <th>用户名</th>\n",
       "      <th>url</th>\n",
       "    </tr>\n",
       "  </thead>\n",
       "  <tbody>\n",
       "    <tr>\n",
       "      <th>855</th>\n",
       "      <td>1</td>\n",
       "      <td>表1</td>\n",
       "      <td>表1</td>\n",
       "      <td>林栩凤</td>\n",
       "      <td>122.225.96.6</td>\n",
       "      <td>http://192.168.1.30:88/SYSA/work/teltop.asp</td>\n",
       "      <td>2017-11-29 16:10:12</td>\n",
       "      <td>客户池</td>\n",
       "      <td>Android</td>\n",
       "      <td>Chrome</td>\n",
       "      <td>林栩凤</td>\n",
       "      <td>http://192.168.1.30:88/SYSA/work/teltop.asp</td>\n",
       "    </tr>\n",
       "    <tr>\n",
       "      <th>856</th>\n",
       "      <td>1</td>\n",
       "      <td>表1</td>\n",
       "      <td>表1</td>\n",
       "      <td>林栩凤</td>\n",
       "      <td>122.225.96.6</td>\n",
       "      <td>http://192.168.1.30:88/SYSA/work/teltop.asp?F1...</td>\n",
       "      <td>2017-11-29 16:10:29</td>\n",
       "      <td>客户池</td>\n",
       "      <td>Android</td>\n",
       "      <td>Chrome</td>\n",
       "      <td>林栩凤</td>\n",
       "      <td>http://192.168.1.30:88/SYSA/work/teltop.asp?F1...</td>\n",
       "    </tr>\n",
       "    <tr>\n",
       "      <th>857</th>\n",
       "      <td>1</td>\n",
       "      <td>表1</td>\n",
       "      <td>表1</td>\n",
       "      <td>林栩凤</td>\n",
       "      <td>122.225.96.6</td>\n",
       "      <td>http://192.168.1.30:88/SYSA/work/teltop.asp?F1...</td>\n",
       "      <td>2017-11-29 16:10:21</td>\n",
       "      <td>客户池</td>\n",
       "      <td>Android</td>\n",
       "      <td>Chrome</td>\n",
       "      <td>林栩凤</td>\n",
       "      <td>http://192.168.1.30:88/SYSA/work/teltop.asp?F1...</td>\n",
       "    </tr>\n",
       "    <tr>\n",
       "      <th>885</th>\n",
       "      <td>1</td>\n",
       "      <td>表1</td>\n",
       "      <td>表1</td>\n",
       "      <td>王越</td>\n",
       "      <td>1.81.65.113</td>\n",
       "      <td>http://192.168.1.30:88/SYSA/work/teltop.asp</td>\n",
       "      <td>2017-11-28 19:09:55</td>\n",
       "      <td>客户池</td>\n",
       "      <td>Android</td>\n",
       "      <td>Chrome</td>\n",
       "      <td>王越</td>\n",
       "      <td>http://192.168.1.30:88/SYSA/work/teltop.asp</td>\n",
       "    </tr>\n",
       "    <tr>\n",
       "      <th>886</th>\n",
       "      <td>1</td>\n",
       "      <td>表1</td>\n",
       "      <td>表1</td>\n",
       "      <td>王越</td>\n",
       "      <td>1.81.65.113</td>\n",
       "      <td>http://192.168.1.30:88/SYSA/work/teltop.asp?F1...</td>\n",
       "      <td>2017-11-28 19:10:32</td>\n",
       "      <td>客户池</td>\n",
       "      <td>Android</td>\n",
       "      <td>Chrome</td>\n",
       "      <td>王越</td>\n",
       "      <td>http://192.168.1.30:88/SYSA/work/teltop.asp?F1...</td>\n",
       "    </tr>\n",
       "  </tbody>\n",
       "</table>\n",
       "</div>"
      ],
      "text/plain": [
       "     记录数 Sheet Table Name   姓名          操作IP  \\\n",
       "855    1    表1         表1  林栩凤  122.225.96.6   \n",
       "856    1    表1         表1  林栩凤  122.225.96.6   \n",
       "857    1    表1         表1  林栩凤  122.225.96.6   \n",
       "885    1    表1         表1   王越   1.81.65.113   \n",
       "886    1    表1         表1   王越   1.81.65.113   \n",
       "\n",
       "                                                  操作地址                 操作时间  \\\n",
       "855        http://192.168.1.30:88/SYSA/work/teltop.asp  2017-11-29 16:10:12   \n",
       "856  http://192.168.1.30:88/SYSA/work/teltop.asp?F1...  2017-11-29 16:10:29   \n",
       "857  http://192.168.1.30:88/SYSA/work/teltop.asp?F1...  2017-11-29 16:10:21   \n",
       "885        http://192.168.1.30:88/SYSA/work/teltop.asp  2017-11-28 19:09:55   \n",
       "886  http://192.168.1.30:88/SYSA/work/teltop.asp?F1...  2017-11-28 19:10:32   \n",
       "\n",
       "    操作类型     操作系统     浏览器  用户名  \\\n",
       "855  客户池  Android  Chrome  林栩凤   \n",
       "856  客户池  Android  Chrome  林栩凤   \n",
       "857  客户池  Android  Chrome  林栩凤   \n",
       "885  客户池  Android  Chrome   王越   \n",
       "886  客户池  Android  Chrome   王越   \n",
       "\n",
       "                                                   url  \n",
       "855        http://192.168.1.30:88/SYSA/work/teltop.asp  \n",
       "856  http://192.168.1.30:88/SYSA/work/teltop.asp?F1...  \n",
       "857  http://192.168.1.30:88/SYSA/work/teltop.asp?F1...  \n",
       "885        http://192.168.1.30:88/SYSA/work/teltop.asp  \n",
       "886  http://192.168.1.30:88/SYSA/work/teltop.asp?F1...  "
      ]
     },
     "execution_count": 4,
     "metadata": {},
     "output_type": "execute_result"
    }
   ],
   "source": [
    "#filter user operation type\n",
    "df = df[df['操作类型']=='客户池']\n",
    "#df.head()"
   ]
  },
  {
   "cell_type": "code",
   "execution_count": 5,
   "metadata": {},
   "outputs": [
    {
     "data": {
      "text/plain": [
       "客户池    20367\n",
       "Name: 操作类型, dtype: int64"
      ]
     },
     "execution_count": 5,
     "metadata": {},
     "output_type": "execute_result"
    }
   ],
   "source": [
    "#check value counts\n",
    "df['操作类型'].value_counts()"
   ]
  },
  {
   "cell_type": "code",
   "execution_count": 6,
   "metadata": {},
   "outputs": [
    {
     "data": {
      "text/html": [
       "<div>\n",
       "<style scoped>\n",
       "    .dataframe tbody tr th:only-of-type {\n",
       "        vertical-align: middle;\n",
       "    }\n",
       "\n",
       "    .dataframe tbody tr th {\n",
       "        vertical-align: top;\n",
       "    }\n",
       "\n",
       "    .dataframe thead th {\n",
       "        text-align: right;\n",
       "    }\n",
       "</style>\n",
       "<table border=\"1\" class=\"dataframe\">\n",
       "  <thead>\n",
       "    <tr style=\"text-align: right;\">\n",
       "      <th></th>\n",
       "      <th>姓名</th>\n",
       "      <th>用户名</th>\n",
       "      <th>操作IP</th>\n",
       "      <th>操作时间</th>\n",
       "      <th>操作系统</th>\n",
       "      <th>操作地址</th>\n",
       "      <th>url</th>\n",
       "    </tr>\n",
       "  </thead>\n",
       "  <tbody>\n",
       "    <tr>\n",
       "      <th>855</th>\n",
       "      <td>林栩凤</td>\n",
       "      <td>林栩凤</td>\n",
       "      <td>122.225.96.6</td>\n",
       "      <td>2017-11-29 16:10:12</td>\n",
       "      <td>Android</td>\n",
       "      <td>http://192.168.1.30:88/SYSA/work/teltop.asp</td>\n",
       "      <td>http://192.168.1.30:88/SYSA/work/teltop.asp</td>\n",
       "    </tr>\n",
       "    <tr>\n",
       "      <th>856</th>\n",
       "      <td>林栩凤</td>\n",
       "      <td>林栩凤</td>\n",
       "      <td>122.225.96.6</td>\n",
       "      <td>2017-11-29 16:10:29</td>\n",
       "      <td>Android</td>\n",
       "      <td>http://192.168.1.30:88/SYSA/work/teltop.asp?F1...</td>\n",
       "      <td>http://192.168.1.30:88/SYSA/work/teltop.asp?F1...</td>\n",
       "    </tr>\n",
       "    <tr>\n",
       "      <th>857</th>\n",
       "      <td>林栩凤</td>\n",
       "      <td>林栩凤</td>\n",
       "      <td>122.225.96.6</td>\n",
       "      <td>2017-11-29 16:10:21</td>\n",
       "      <td>Android</td>\n",
       "      <td>http://192.168.1.30:88/SYSA/work/teltop.asp?F1...</td>\n",
       "      <td>http://192.168.1.30:88/SYSA/work/teltop.asp?F1...</td>\n",
       "    </tr>\n",
       "    <tr>\n",
       "      <th>885</th>\n",
       "      <td>王越</td>\n",
       "      <td>王越</td>\n",
       "      <td>1.81.65.113</td>\n",
       "      <td>2017-11-28 19:09:55</td>\n",
       "      <td>Android</td>\n",
       "      <td>http://192.168.1.30:88/SYSA/work/teltop.asp</td>\n",
       "      <td>http://192.168.1.30:88/SYSA/work/teltop.asp</td>\n",
       "    </tr>\n",
       "    <tr>\n",
       "      <th>886</th>\n",
       "      <td>王越</td>\n",
       "      <td>王越</td>\n",
       "      <td>1.81.65.113</td>\n",
       "      <td>2017-11-28 19:10:32</td>\n",
       "      <td>Android</td>\n",
       "      <td>http://192.168.1.30:88/SYSA/work/teltop.asp?F1...</td>\n",
       "      <td>http://192.168.1.30:88/SYSA/work/teltop.asp?F1...</td>\n",
       "    </tr>\n",
       "  </tbody>\n",
       "</table>\n",
       "</div>"
      ],
      "text/plain": [
       "      姓名  用户名          操作IP                 操作时间     操作系统  \\\n",
       "855  林栩凤  林栩凤  122.225.96.6  2017-11-29 16:10:12  Android   \n",
       "856  林栩凤  林栩凤  122.225.96.6  2017-11-29 16:10:29  Android   \n",
       "857  林栩凤  林栩凤  122.225.96.6  2017-11-29 16:10:21  Android   \n",
       "885   王越   王越   1.81.65.113  2017-11-28 19:09:55  Android   \n",
       "886   王越   王越   1.81.65.113  2017-11-28 19:10:32  Android   \n",
       "\n",
       "                                                  操作地址  \\\n",
       "855        http://192.168.1.30:88/SYSA/work/teltop.asp   \n",
       "856  http://192.168.1.30:88/SYSA/work/teltop.asp?F1...   \n",
       "857  http://192.168.1.30:88/SYSA/work/teltop.asp?F1...   \n",
       "885        http://192.168.1.30:88/SYSA/work/teltop.asp   \n",
       "886  http://192.168.1.30:88/SYSA/work/teltop.asp?F1...   \n",
       "\n",
       "                                                   url  \n",
       "855        http://192.168.1.30:88/SYSA/work/teltop.asp  \n",
       "856  http://192.168.1.30:88/SYSA/work/teltop.asp?F1...  \n",
       "857  http://192.168.1.30:88/SYSA/work/teltop.asp?F1...  \n",
       "885        http://192.168.1.30:88/SYSA/work/teltop.asp  \n",
       "886  http://192.168.1.30:88/SYSA/work/teltop.asp?F1...  "
      ]
     },
     "execution_count": 6,
     "metadata": {},
     "output_type": "execute_result"
    }
   ],
   "source": [
    "#shrink to essential columns\n",
    "df = df[['姓名','用户名','操作IP','操作时间','操作系统','操作地址','url']]\n",
    "#df.head()"
   ]
  },
  {
   "cell_type": "code",
   "execution_count": 7,
   "metadata": {},
   "outputs": [
    {
     "data": {
      "text/html": [
       "<div>\n",
       "<style scoped>\n",
       "    .dataframe tbody tr th:only-of-type {\n",
       "        vertical-align: middle;\n",
       "    }\n",
       "\n",
       "    .dataframe tbody tr th {\n",
       "        vertical-align: top;\n",
       "    }\n",
       "\n",
       "    .dataframe thead th {\n",
       "        text-align: right;\n",
       "    }\n",
       "</style>\n",
       "<table border=\"1\" class=\"dataframe\">\n",
       "  <thead>\n",
       "    <tr style=\"text-align: right;\">\n",
       "      <th></th>\n",
       "      <th>姓名</th>\n",
       "      <th>用户名</th>\n",
       "      <th>操作IP</th>\n",
       "      <th>操作时间</th>\n",
       "      <th>操作系统</th>\n",
       "      <th>操作地址</th>\n",
       "      <th>url</th>\n",
       "      <th>url_unquoted</th>\n",
       "    </tr>\n",
       "  </thead>\n",
       "  <tbody>\n",
       "    <tr>\n",
       "      <th>855</th>\n",
       "      <td>林栩凤</td>\n",
       "      <td>林栩凤</td>\n",
       "      <td>122.225.96.6</td>\n",
       "      <td>2017-11-29 16:10:12</td>\n",
       "      <td>Android</td>\n",
       "      <td>http://192.168.1.30:88/SYSA/work/teltop.asp</td>\n",
       "      <td>http://192.168.1.30:88/SYSA/work/teltop.asp</td>\n",
       "      <td>http://192.168.1.30:88/SYSA/work/teltop.asp</td>\n",
       "    </tr>\n",
       "    <tr>\n",
       "      <th>856</th>\n",
       "      <td>林栩凤</td>\n",
       "      <td>林栩凤</td>\n",
       "      <td>122.225.96.6</td>\n",
       "      <td>2017-11-29 16:10:29</td>\n",
       "      <td>Android</td>\n",
       "      <td>http://192.168.1.30:88/SYSA/work/teltop.asp?F1...</td>\n",
       "      <td>http://192.168.1.30:88/SYSA/work/teltop.asp?F1...</td>\n",
       "      <td>http://192.168.1.30:88/SYSA/work/teltop.asp?F1...</td>\n",
       "    </tr>\n",
       "  </tbody>\n",
       "</table>\n",
       "</div>"
      ],
      "text/plain": [
       "      姓名  用户名          操作IP                 操作时间     操作系统  \\\n",
       "855  林栩凤  林栩凤  122.225.96.6  2017-11-29 16:10:12  Android   \n",
       "856  林栩凤  林栩凤  122.225.96.6  2017-11-29 16:10:29  Android   \n",
       "\n",
       "                                                  操作地址  \\\n",
       "855        http://192.168.1.30:88/SYSA/work/teltop.asp   \n",
       "856  http://192.168.1.30:88/SYSA/work/teltop.asp?F1...   \n",
       "\n",
       "                                                   url  \\\n",
       "855        http://192.168.1.30:88/SYSA/work/teltop.asp   \n",
       "856  http://192.168.1.30:88/SYSA/work/teltop.asp?F1...   \n",
       "\n",
       "                                          url_unquoted  \n",
       "855        http://192.168.1.30:88/SYSA/work/teltop.asp  \n",
       "856  http://192.168.1.30:88/SYSA/work/teltop.asp?F1...  "
      ]
     },
     "execution_count": 7,
     "metadata": {},
     "output_type": "execute_result"
    }
   ],
   "source": [
    "#decode url Chinese words\n",
    "v = [] \n",
    "for i in df.url:\n",
    "    v.append(urllib.parse.unquote(i,encoding='gbk'))\n",
    "\n",
    "df['url_unquoted'] = v\n",
    "#df.head(2)"
   ]
  },
  {
   "cell_type": "code",
   "execution_count": 8,
   "metadata": {},
   "outputs": [
    {
     "data": {
      "text/plain": [
       "'http://192.168.1.30:88/SYSA/work/teltop.asp?F1=1&F2=金洋&sear=金洋'"
      ]
     },
     "execution_count": 8,
     "metadata": {},
     "output_type": "execute_result"
    }
   ],
   "source": [
    "#check decode result\n",
    "df.url_unquoted[856]"
   ]
  },
  {
   "cell_type": "code",
   "execution_count": 9,
   "metadata": {},
   "outputs": [
    {
     "name": "stdout",
     "output_type": "stream",
     "text": [
      "(17800, 8)\n",
      "(2567, 8)\n"
     ]
    }
   ],
   "source": [
    "#split decode failure data from success data\n",
    "#check decode failure rows\n",
    "df_normal_encoding = df[df.url_unquoted.str.contains('%')==False]\n",
    "print(df_normal_encoding.shape)\n",
    "\n",
    "df_diff_encoding = df[df.url_unquoted.str.contains('%')==True]\n",
    "print(df_diff_encoding.shape)"
   ]
  },
  {
   "cell_type": "code",
   "execution_count": 10,
   "metadata": {},
   "outputs": [
    {
     "data": {
      "text/plain": [
       "'http://192.168.1.30:88/SYSA/work/teltop.asp?F1=1&F2=%u91D1%u6D0B&sear=%u91D1%u6D0B'"
      ]
     },
     "execution_count": 10,
     "metadata": {},
     "output_type": "execute_result"
    }
   ],
   "source": [
    "#print decode failure sample\n",
    "df_diff_encoding.url_unquoted[857]"
   ]
  },
  {
   "cell_type": "code",
   "execution_count": 11,
   "metadata": {},
   "outputs": [],
   "source": [
    "# export wrongly decoded rows\n",
    "#df_diff_encoding.to_csv('df_diff_encoding.csv',index=False)"
   ]
  },
  {
   "cell_type": "code",
   "execution_count": 12,
   "metadata": {},
   "outputs": [
    {
     "data": {
      "text/html": [
       "<div>\n",
       "<style scoped>\n",
       "    .dataframe tbody tr th:only-of-type {\n",
       "        vertical-align: middle;\n",
       "    }\n",
       "\n",
       "    .dataframe tbody tr th {\n",
       "        vertical-align: top;\n",
       "    }\n",
       "\n",
       "    .dataframe thead th {\n",
       "        text-align: right;\n",
       "    }\n",
       "</style>\n",
       "<table border=\"1\" class=\"dataframe\">\n",
       "  <thead>\n",
       "    <tr style=\"text-align: right;\">\n",
       "      <th></th>\n",
       "      <th>姓名</th>\n",
       "      <th>用户名</th>\n",
       "      <th>操作IP</th>\n",
       "      <th>操作时间</th>\n",
       "      <th>操作系统</th>\n",
       "      <th>操作地址</th>\n",
       "      <th>url</th>\n",
       "      <th>url_unquoted</th>\n",
       "    </tr>\n",
       "  </thead>\n",
       "  <tbody>\n",
       "    <tr>\n",
       "      <th>0</th>\n",
       "      <td>林栩凤</td>\n",
       "      <td>林栩凤</td>\n",
       "      <td>122.225.96.6</td>\n",
       "      <td>2017/11/29 16:10</td>\n",
       "      <td>Android</td>\n",
       "      <td>http://192.168.1.30:88/SYSA/work/teltop.asp?F1...</td>\n",
       "      <td>http://192.168.1.30:88/SYSA/work/teltop.asp?F1...</td>\n",
       "      <td>http://192.168.1.30:88/SYSA/work/teltop.asp?F1...</td>\n",
       "    </tr>\n",
       "    <tr>\n",
       "      <th>1</th>\n",
       "      <td>王越</td>\n",
       "      <td>王越</td>\n",
       "      <td>1.81.65.113</td>\n",
       "      <td>2017/11/28 19:10</td>\n",
       "      <td>Android</td>\n",
       "      <td>http://192.168.1.30:88/SYSA/work/teltop.asp?F1...</td>\n",
       "      <td>http://192.168.1.30:88/SYSA/work/teltop.asp?F1...</td>\n",
       "      <td>http://192.168.1.30:88/SYSA/work/teltop.asp?F1...</td>\n",
       "    </tr>\n",
       "    <tr>\n",
       "      <th>2</th>\n",
       "      <td>王越</td>\n",
       "      <td>王越</td>\n",
       "      <td>1.81.65.113</td>\n",
       "      <td>2017/11/28 19:10</td>\n",
       "      <td>Android</td>\n",
       "      <td>http://192.168.1.30:88/SYSA/work/teltop.asp?F1...</td>\n",
       "      <td>http://192.168.1.30:88/SYSA/work/teltop.asp?F1...</td>\n",
       "      <td>http://192.168.1.30:88/SYSA/work/teltop.asp?F1...</td>\n",
       "    </tr>\n",
       "    <tr>\n",
       "      <th>3</th>\n",
       "      <td>王越</td>\n",
       "      <td>王越</td>\n",
       "      <td>36.45.30.26</td>\n",
       "      <td>2017/11/29 10:23</td>\n",
       "      <td>Android</td>\n",
       "      <td>http://192.168.1.30:88/SYSA/work/teltop.asp?F1...</td>\n",
       "      <td>http://192.168.1.30:88/SYSA/work/teltop.asp?F1...</td>\n",
       "      <td>http://192.168.1.30:88/SYSA/work/teltop.asp?F1...</td>\n",
       "    </tr>\n",
       "    <tr>\n",
       "      <th>4</th>\n",
       "      <td>陈慈娜</td>\n",
       "      <td>陈慈娜</td>\n",
       "      <td>113.111.61.175</td>\n",
       "      <td>2017/11/30 11:26</td>\n",
       "      <td>Windows 10（正式版）</td>\n",
       "      <td>http://192.168.1.30:88/SYSA/work/teltop.asp?F1...</td>\n",
       "      <td>http://192.168.1.30:88/SYSA/work/teltop.asp?F1...</td>\n",
       "      <td>http://192.168.1.30:88/SYSA/work/teltop.asp?F1...</td>\n",
       "    </tr>\n",
       "  </tbody>\n",
       "</table>\n",
       "</div>"
      ],
      "text/plain": [
       "    姓名  用户名            操作IP              操作时间             操作系统  \\\n",
       "0  林栩凤  林栩凤    122.225.96.6  2017/11/29 16:10          Android   \n",
       "1   王越   王越     1.81.65.113  2017/11/28 19:10          Android   \n",
       "2   王越   王越     1.81.65.113  2017/11/28 19:10          Android   \n",
       "3   王越   王越     36.45.30.26  2017/11/29 10:23          Android   \n",
       "4  陈慈娜  陈慈娜  113.111.61.175  2017/11/30 11:26  Windows 10（正式版）   \n",
       "\n",
       "                                                操作地址  \\\n",
       "0  http://192.168.1.30:88/SYSA/work/teltop.asp?F1...   \n",
       "1  http://192.168.1.30:88/SYSA/work/teltop.asp?F1...   \n",
       "2  http://192.168.1.30:88/SYSA/work/teltop.asp?F1...   \n",
       "3  http://192.168.1.30:88/SYSA/work/teltop.asp?F1...   \n",
       "4  http://192.168.1.30:88/SYSA/work/teltop.asp?F1...   \n",
       "\n",
       "                                                 url  \\\n",
       "0  http://192.168.1.30:88/SYSA/work/teltop.asp?F1...   \n",
       "1  http://192.168.1.30:88/SYSA/work/teltop.asp?F1...   \n",
       "2  http://192.168.1.30:88/SYSA/work/teltop.asp?F1...   \n",
       "3  http://192.168.1.30:88/SYSA/work/teltop.asp?F1...   \n",
       "4  http://192.168.1.30:88/SYSA/work/teltop.asp?F1...   \n",
       "\n",
       "                                        url_unquoted  \n",
       "0  http://192.168.1.30:88/SYSA/work/teltop.asp?F1...  \n",
       "1  http://192.168.1.30:88/SYSA/work/teltop.asp?F1...  \n",
       "2  http://192.168.1.30:88/SYSA/work/teltop.asp?F1...  \n",
       "3  http://192.168.1.30:88/SYSA/work/teltop.asp?F1...  \n",
       "4  http://192.168.1.30:88/SYSA/work/teltop.asp?F1...  "
      ]
     },
     "execution_count": 12,
     "metadata": {},
     "output_type": "execute_result"
    }
   ],
   "source": [
    "#import manually decoded data back in\n",
    "df_diff_encoding = pd.read_csv('df_diff_encoding.csv',encoding='gbk')\n",
    "#df_diff_encoding.head()"
   ]
  },
  {
   "cell_type": "code",
   "execution_count": 13,
   "metadata": {},
   "outputs": [
    {
     "data": {
      "text/plain": [
       "'http://192.168.1.30:88/SYSA/work/teltop.asp?F1=1&F2=梦天门&sear=梦天门'"
      ]
     },
     "execution_count": 13,
     "metadata": {},
     "output_type": "execute_result"
    }
   ],
   "source": [
    "#recheck decode failure sample\n",
    "df_diff_encoding.url_unquoted[857]"
   ]
  },
  {
   "cell_type": "code",
   "execution_count": 14,
   "metadata": {},
   "outputs": [
    {
     "data": {
      "text/plain": [
       "(20367, 8)"
      ]
     },
     "execution_count": 14,
     "metadata": {},
     "output_type": "execute_result"
    }
   ],
   "source": [
    "#combine splited and decoded datasets\n",
    "df2 = pd.concat([df_diff_encoding, df_normal_encoding])\n",
    "df2.shape"
   ]
  },
  {
   "cell_type": "code",
   "execution_count": 15,
   "metadata": {},
   "outputs": [
    {
     "data": {
      "text/plain": [
       "(0, 8)"
      ]
     },
     "execution_count": 15,
     "metadata": {},
     "output_type": "execute_result"
    }
   ],
   "source": [
    "# recheck decoding failure rows\n",
    "df_diff_encoding2 = df2[df2['url_unquoted'].str.contains('%')==True]\n",
    "df_diff_encoding2.shape"
   ]
  },
  {
   "cell_type": "code",
   "execution_count": 16,
   "metadata": {},
   "outputs": [
    {
     "data": {
      "text/plain": [
       "0                               金洋金洋\n",
       "1               中国联通山西省分公司中国联通山西省分公司\n",
       "2                           山西联通山西联通\n",
       "3                           陕西中烟陕西中烟\n",
       "4                   中粮集团中宏食品中粮集团中宏食品\n",
       "5                                 君君\n",
       "6                               君立君立\n",
       "7                               尚航尚航\n",
       "8                       广州尚航信息广州尚航信息\n",
       "9                       广州尚航信息广州尚航信息\n",
       "10                          天宝网络天宝网络\n",
       "11                          天宝网络天宝网络\n",
       "12                          广东博宏广东博宏\n",
       "13                      广东博宏药业广东博宏药业\n",
       "14                      广东博宏药业广东博宏药业\n",
       "15                      广东博宏邀约广东博宏邀约\n",
       "16        广东天来宝网络科技有限公司广东天来宝网络科技有限公司\n",
       "17        广东天来宝网络科技有限公司广东天来宝网络科技有限公司\n",
       "18        广东天来宝网络科技有限公司广东天来宝网络科技有限公司\n",
       "19                            中海达中海达\n",
       "20                              中科中科\n",
       "21                              中科中科\n",
       "22                              中科中科\n",
       "23                              尚航尚航\n",
       "24                          广州尚航广州尚航\n",
       "25                      广州尚航信息广州尚航信息\n",
       "26                      广州尚航信息广州尚航信息\n",
       "27                      广州尚航信息广州尚航信息\n",
       "28              荣科科技股份有限公司荣科科技股份有限公司\n",
       "29              荣科科技股份有限公司荣科科技股份有限公司\n",
       "                     ...            \n",
       "226017                            检索\n",
       "226018                            检索\n",
       "226019                            检索\n",
       "226361                              \n",
       "226362                              \n",
       "226363                              \n",
       "226364                              \n",
       "226365                              \n",
       "226366                              \n",
       "226367                              \n",
       "226368                              \n",
       "226369                              \n",
       "226370                       红黄蓝教育保存\n",
       "226371                中智上海经济技术合作公司保存\n",
       "226374                            检索\n",
       "226375                            检索\n",
       "226376                            检索\n",
       "226377                            检索\n",
       "226378                            检索\n",
       "226379                            检索\n",
       "226380                            检索\n",
       "226381                            检索\n",
       "226382                            检索\n",
       "226383                            检索\n",
       "226384                            检索\n",
       "226385                            检索\n",
       "226386                            检索\n",
       "226387                            检索\n",
       "226388                            检索\n",
       "226389                            检索\n",
       "Name: cn, Length: 20367, dtype: object"
      ]
     },
     "execution_count": 16,
     "metadata": {},
     "output_type": "execute_result"
    }
   ],
   "source": [
    "#obtain only Chinese words from operation url string\n",
    "df2['cn'] = df2.url_unquoted.str.replace('[a-zA-Z0-9_]|[\\W]','')\n",
    "#df2.cn"
   ]
  },
  {
   "cell_type": "code",
   "execution_count": 17,
   "metadata": {},
   "outputs": [
    {
     "data": {
      "text/plain": [
       "(' 客户列', '表上海恒')"
      ]
     },
     "execution_count": 17,
     "metadata": {},
     "output_type": "execute_result"
    }
   ],
   "source": [
    "#code check snippet\n",
    "string =' 客户列表上海恒'\n",
    "firstpart, secondpart = string[:len(string)//2], string[len(string)//2:]\n",
    "firstpart,secondpart"
   ]
  },
  {
   "cell_type": "code",
   "execution_count": 18,
   "metadata": {},
   "outputs": [],
   "source": [
    "#break Chinese character strings into two parts\n",
    "firstpart = []\n",
    "secondpart = []\n",
    "combine_parts = []\n",
    "for string in df2.cn:\n",
    "    firstpart.append(string[:len(string)//2])\n",
    "    secondpart.append(string[len(string)//2:])"
   ]
  },
  {
   "cell_type": "code",
   "execution_count": 19,
   "metadata": {},
   "outputs": [],
   "source": [
    "#combine two parts if not equal, drop 2nd part if equal\n",
    "combine_parts = []\n",
    "for i in range(len(firstpart)):\n",
    "    if firstpart[i]==secondpart[i]:\n",
    "        combine =firstpart[i]\n",
    "    else:\n",
    "        combine = firstpart[i] + secondpart[i]\n",
    "    combine_parts.append(combine)"
   ]
  },
  {
   "cell_type": "code",
   "execution_count": 20,
   "metadata": {},
   "outputs": [
    {
     "data": {
      "text/html": [
       "<div>\n",
       "<style scoped>\n",
       "    .dataframe tbody tr th:only-of-type {\n",
       "        vertical-align: middle;\n",
       "    }\n",
       "\n",
       "    .dataframe tbody tr th {\n",
       "        vertical-align: top;\n",
       "    }\n",
       "\n",
       "    .dataframe thead th {\n",
       "        text-align: right;\n",
       "    }\n",
       "</style>\n",
       "<table border=\"1\" class=\"dataframe\">\n",
       "  <thead>\n",
       "    <tr style=\"text-align: right;\">\n",
       "      <th></th>\n",
       "      <th>姓名</th>\n",
       "      <th>用户名</th>\n",
       "      <th>操作IP</th>\n",
       "      <th>操作时间</th>\n",
       "      <th>操作系统</th>\n",
       "      <th>操作地址</th>\n",
       "      <th>url</th>\n",
       "      <th>url_unquoted</th>\n",
       "      <th>cn</th>\n",
       "      <th>文字</th>\n",
       "    </tr>\n",
       "  </thead>\n",
       "  <tbody>\n",
       "    <tr>\n",
       "      <th>0</th>\n",
       "      <td>林栩凤</td>\n",
       "      <td>林栩凤</td>\n",
       "      <td>122.225.96.6</td>\n",
       "      <td>2017/11/29 16:10</td>\n",
       "      <td>Android</td>\n",
       "      <td>http://192.168.1.30:88/SYSA/work/teltop.asp?F1...</td>\n",
       "      <td>http://192.168.1.30:88/SYSA/work/teltop.asp?F1...</td>\n",
       "      <td>http://192.168.1.30:88/SYSA/work/teltop.asp?F1...</td>\n",
       "      <td>金洋金洋</td>\n",
       "      <td>金洋</td>\n",
       "    </tr>\n",
       "    <tr>\n",
       "      <th>1</th>\n",
       "      <td>王越</td>\n",
       "      <td>王越</td>\n",
       "      <td>1.81.65.113</td>\n",
       "      <td>2017/11/28 19:10</td>\n",
       "      <td>Android</td>\n",
       "      <td>http://192.168.1.30:88/SYSA/work/teltop.asp?F1...</td>\n",
       "      <td>http://192.168.1.30:88/SYSA/work/teltop.asp?F1...</td>\n",
       "      <td>http://192.168.1.30:88/SYSA/work/teltop.asp?F1...</td>\n",
       "      <td>中国联通山西省分公司中国联通山西省分公司</td>\n",
       "      <td>中国联通山西省分公司</td>\n",
       "    </tr>\n",
       "  </tbody>\n",
       "</table>\n",
       "</div>"
      ],
      "text/plain": [
       "    姓名  用户名          操作IP              操作时间     操作系统  \\\n",
       "0  林栩凤  林栩凤  122.225.96.6  2017/11/29 16:10  Android   \n",
       "1   王越   王越   1.81.65.113  2017/11/28 19:10  Android   \n",
       "\n",
       "                                                操作地址  \\\n",
       "0  http://192.168.1.30:88/SYSA/work/teltop.asp?F1...   \n",
       "1  http://192.168.1.30:88/SYSA/work/teltop.asp?F1...   \n",
       "\n",
       "                                                 url  \\\n",
       "0  http://192.168.1.30:88/SYSA/work/teltop.asp?F1...   \n",
       "1  http://192.168.1.30:88/SYSA/work/teltop.asp?F1...   \n",
       "\n",
       "                                        url_unquoted                    cn  \\\n",
       "0  http://192.168.1.30:88/SYSA/work/teltop.asp?F1...                  金洋金洋   \n",
       "1  http://192.168.1.30:88/SYSA/work/teltop.asp?F1...  中国联通山西省分公司中国联通山西省分公司   \n",
       "\n",
       "           文字  \n",
       "0          金洋  \n",
       "1  中国联通山西省分公司  "
      ]
     },
     "execution_count": 20,
     "metadata": {},
     "output_type": "execute_result"
    }
   ],
   "source": [
    "#attache list back to dataframe\n",
    "df2['文字'] = combine_parts\n",
    "#df2.head(2)"
   ]
  },
  {
   "cell_type": "code",
   "execution_count": 21,
   "metadata": {},
   "outputs": [
    {
     "data": {
      "text/html": [
       "<div>\n",
       "<style scoped>\n",
       "    .dataframe tbody tr th:only-of-type {\n",
       "        vertical-align: middle;\n",
       "    }\n",
       "\n",
       "    .dataframe tbody tr th {\n",
       "        vertical-align: top;\n",
       "    }\n",
       "\n",
       "    .dataframe thead th {\n",
       "        text-align: right;\n",
       "    }\n",
       "</style>\n",
       "<table border=\"1\" class=\"dataframe\">\n",
       "  <thead>\n",
       "    <tr style=\"text-align: right;\">\n",
       "      <th></th>\n",
       "      <th>姓名</th>\n",
       "      <th>用户名</th>\n",
       "      <th>操作IP</th>\n",
       "      <th>操作时间</th>\n",
       "      <th>操作系统</th>\n",
       "      <th>操作地址</th>\n",
       "      <th>cn</th>\n",
       "      <th>文字</th>\n",
       "    </tr>\n",
       "  </thead>\n",
       "  <tbody>\n",
       "    <tr>\n",
       "      <th>0</th>\n",
       "      <td>林栩凤</td>\n",
       "      <td>林栩凤</td>\n",
       "      <td>122.225.96.6</td>\n",
       "      <td>2017/11/29 16:10</td>\n",
       "      <td>Android</td>\n",
       "      <td>http://192.168.1.30:88/SYSA/work/teltop.asp?F1...</td>\n",
       "      <td>金洋金洋</td>\n",
       "      <td>金洋</td>\n",
       "    </tr>\n",
       "    <tr>\n",
       "      <th>1</th>\n",
       "      <td>王越</td>\n",
       "      <td>王越</td>\n",
       "      <td>1.81.65.113</td>\n",
       "      <td>2017/11/28 19:10</td>\n",
       "      <td>Android</td>\n",
       "      <td>http://192.168.1.30:88/SYSA/work/teltop.asp?F1...</td>\n",
       "      <td>中国联通山西省分公司中国联通山西省分公司</td>\n",
       "      <td>中国联通山西省分公司</td>\n",
       "    </tr>\n",
       "    <tr>\n",
       "      <th>2</th>\n",
       "      <td>王越</td>\n",
       "      <td>王越</td>\n",
       "      <td>1.81.65.113</td>\n",
       "      <td>2017/11/28 19:10</td>\n",
       "      <td>Android</td>\n",
       "      <td>http://192.168.1.30:88/SYSA/work/teltop.asp?F1...</td>\n",
       "      <td>山西联通山西联通</td>\n",
       "      <td>山西联通</td>\n",
       "    </tr>\n",
       "    <tr>\n",
       "      <th>3</th>\n",
       "      <td>王越</td>\n",
       "      <td>王越</td>\n",
       "      <td>36.45.30.26</td>\n",
       "      <td>2017/11/29 10:23</td>\n",
       "      <td>Android</td>\n",
       "      <td>http://192.168.1.30:88/SYSA/work/teltop.asp?F1...</td>\n",
       "      <td>陕西中烟陕西中烟</td>\n",
       "      <td>陕西中烟</td>\n",
       "    </tr>\n",
       "    <tr>\n",
       "      <th>4</th>\n",
       "      <td>陈慈娜</td>\n",
       "      <td>陈慈娜</td>\n",
       "      <td>113.111.61.175</td>\n",
       "      <td>2017/11/30 11:26</td>\n",
       "      <td>Windows 10（正式版）</td>\n",
       "      <td>http://192.168.1.30:88/SYSA/work/teltop.asp?F1...</td>\n",
       "      <td>中粮集团中宏食品中粮集团中宏食品</td>\n",
       "      <td>中粮集团中宏食品</td>\n",
       "    </tr>\n",
       "  </tbody>\n",
       "</table>\n",
       "</div>"
      ],
      "text/plain": [
       "    姓名  用户名            操作IP              操作时间             操作系统  \\\n",
       "0  林栩凤  林栩凤    122.225.96.6  2017/11/29 16:10          Android   \n",
       "1   王越   王越     1.81.65.113  2017/11/28 19:10          Android   \n",
       "2   王越   王越     1.81.65.113  2017/11/28 19:10          Android   \n",
       "3   王越   王越     36.45.30.26  2017/11/29 10:23          Android   \n",
       "4  陈慈娜  陈慈娜  113.111.61.175  2017/11/30 11:26  Windows 10（正式版）   \n",
       "\n",
       "                                                操作地址                    cn  \\\n",
       "0  http://192.168.1.30:88/SYSA/work/teltop.asp?F1...                  金洋金洋   \n",
       "1  http://192.168.1.30:88/SYSA/work/teltop.asp?F1...  中国联通山西省分公司中国联通山西省分公司   \n",
       "2  http://192.168.1.30:88/SYSA/work/teltop.asp?F1...              山西联通山西联通   \n",
       "3  http://192.168.1.30:88/SYSA/work/teltop.asp?F1...              陕西中烟陕西中烟   \n",
       "4  http://192.168.1.30:88/SYSA/work/teltop.asp?F1...      中粮集团中宏食品中粮集团中宏食品   \n",
       "\n",
       "           文字  \n",
       "0          金洋  \n",
       "1  中国联通山西省分公司  \n",
       "2        山西联通  \n",
       "3        陕西中烟  \n",
       "4    中粮集团中宏食品  "
      ]
     },
     "execution_count": 21,
     "metadata": {},
     "output_type": "execute_result"
    }
   ],
   "source": [
    "#drop necessary columns\n",
    "df2 = df2.drop(['url_unquoted','url'],axis=1)\n",
    "#df2.head()"
   ]
  },
  {
   "cell_type": "code",
   "execution_count": 23,
   "metadata": {},
   "outputs": [
    {
     "data": {
      "text/html": [
       "<div>\n",
       "<style scoped>\n",
       "    .dataframe tbody tr th:only-of-type {\n",
       "        vertical-align: middle;\n",
       "    }\n",
       "\n",
       "    .dataframe tbody tr th {\n",
       "        vertical-align: top;\n",
       "    }\n",
       "\n",
       "    .dataframe thead th {\n",
       "        text-align: right;\n",
       "    }\n",
       "</style>\n",
       "<table border=\"1\" class=\"dataframe\">\n",
       "  <thead>\n",
       "    <tr style=\"text-align: right;\">\n",
       "      <th></th>\n",
       "      <th>姓名</th>\n",
       "      <th>用户名</th>\n",
       "      <th>操作IP</th>\n",
       "      <th>操作时间</th>\n",
       "      <th>操作系统</th>\n",
       "      <th>操作地址</th>\n",
       "      <th>cn</th>\n",
       "      <th>文字</th>\n",
       "      <th>currPage</th>\n",
       "    </tr>\n",
       "  </thead>\n",
       "  <tbody>\n",
       "    <tr>\n",
       "      <th>0</th>\n",
       "      <td>林栩凤</td>\n",
       "      <td>林栩凤</td>\n",
       "      <td>122.225.96.6</td>\n",
       "      <td>2017/11/29 16:10</td>\n",
       "      <td>Android</td>\n",
       "      <td>http://192.168.1.30:88/SYSA/work/teltop.asp?F1...</td>\n",
       "      <td>金洋金洋</td>\n",
       "      <td>金洋</td>\n",
       "      <td>NaN</td>\n",
       "    </tr>\n",
       "    <tr>\n",
       "      <th>1</th>\n",
       "      <td>王越</td>\n",
       "      <td>王越</td>\n",
       "      <td>1.81.65.113</td>\n",
       "      <td>2017/11/28 19:10</td>\n",
       "      <td>Android</td>\n",
       "      <td>http://192.168.1.30:88/SYSA/work/teltop.asp?F1...</td>\n",
       "      <td>中国联通山西省分公司中国联通山西省分公司</td>\n",
       "      <td>中国联通山西省分公司</td>\n",
       "      <td>NaN</td>\n",
       "    </tr>\n",
       "  </tbody>\n",
       "</table>\n",
       "</div>"
      ],
      "text/plain": [
       "    姓名  用户名          操作IP              操作时间     操作系统  \\\n",
       "0  林栩凤  林栩凤  122.225.96.6  2017/11/29 16:10  Android   \n",
       "1   王越   王越   1.81.65.113  2017/11/28 19:10  Android   \n",
       "\n",
       "                                                操作地址                    cn  \\\n",
       "0  http://192.168.1.30:88/SYSA/work/teltop.asp?F1...                  金洋金洋   \n",
       "1  http://192.168.1.30:88/SYSA/work/teltop.asp?F1...  中国联通山西省分公司中国联通山西省分公司   \n",
       "\n",
       "           文字 currPage  \n",
       "0          金洋      NaN  \n",
       "1  中国联通山西省分公司      NaN  "
      ]
     },
     "execution_count": 23,
     "metadata": {},
     "output_type": "execute_result"
    }
   ],
   "source": [
    "#extract currPage number from operation url\n",
    "df2['currPage'] = df2.操作地址.str.extract('(currPage=[0-9]?[0-9]?[0-9])',expand = False)\n",
    "#df2.head(2)"
   ]
  },
  {
   "cell_type": "code",
   "execution_count": null,
   "metadata": {},
   "outputs": [],
   "source": [
    "#df2.currPage.value_counts()"
   ]
  },
  {
   "cell_type": "code",
   "execution_count": null,
   "metadata": {},
   "outputs": [],
   "source": [
    "#export for BI toools\n",
    "#df2.to_csv('crm_log.csv',index=False,header = True,encoding='UTF-8')"
   ]
  }
 ],
 "metadata": {
  "kernelspec": {
   "display_name": "Python 3",
   "language": "python",
   "name": "python3"
  },
  "language_info": {
   "codemirror_mode": {
    "name": "ipython",
    "version": 3
   },
   "file_extension": ".py",
   "mimetype": "text/x-python",
   "name": "python",
   "nbconvert_exporter": "python",
   "pygments_lexer": "ipython3",
   "version": "3.6.3"
  }
 },
 "nbformat": 4,
 "nbformat_minor": 2
}
