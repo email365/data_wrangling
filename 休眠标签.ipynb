{
 "cells": [
  {
   "cell_type": "code",
   "execution_count": null,
   "metadata": {},
   "outputs": [],
   "source": [
    "import pandas as pd"
   ]
  },
  {
   "cell_type": "code",
   "execution_count": null,
   "metadata": {},
   "outputs": [],
   "source": [
    "df = pd.read_csv('meeting_log_2017.csv')\n",
    "df.head()"
   ]
  },
  {
   "cell_type": "code",
   "execution_count": null,
   "metadata": {},
   "outputs": [],
   "source": [
    "df = df.fillna(0)\n",
    "df.head()"
   ]
  },
  {
   "cell_type": "code",
   "execution_count": null,
   "metadata": {},
   "outputs": [],
   "source": [
    "dec = []\n",
    "for index, row in df.iterrows():\n",
    "    if row.十二月 == 0:\n",
    "        x='not_active'\n",
    "    else:\n",
    "        x='active'\n",
    "    dec.append(x)\n",
    "df['dec'] = dec\n",
    "df.head()"
   ]
  },
  {
   "cell_type": "code",
   "execution_count": null,
   "metadata": {},
   "outputs": [],
   "source": [
    "df.iloc[:,2:-1] = df.iloc[:,2:-1].astype(float)\n",
    "df.head()"
   ]
  },
  {
   "cell_type": "code",
   "execution_count": null,
   "metadata": {},
   "outputs": [],
   "source": [
    "Q4 = []\n",
    "for index, row in df.iterrows():\n",
    "    x = row.十二月+row.十一月+row.十月\n",
    "    if x == 0:\n",
    "        x='not_active'\n",
    "    else:\n",
    "        x='active'\n",
    "    Q4.append(x)\n",
    "df['Q4'] = Q4\n",
    "df.head(15)"
   ]
  },
  {
   "cell_type": "code",
   "execution_count": null,
   "metadata": {},
   "outputs": [],
   "source": [
    "six_month = []\n",
    "for index, row in df.iterrows():\n",
    "    x = row.十二月+row.十一月+row.十月+row.九月+row.八月+row.七月+row.六月\n",
    "    if x == 0:\n",
    "        x='not_active'\n",
    "    else:\n",
    "        x='active'\n",
    "    six_month.append(x)\n",
    "df['six-dec'] = six_month\n",
    "df.head(15)"
   ]
  },
  {
   "cell_type": "code",
   "execution_count": null,
   "metadata": {},
   "outputs": [],
   "source": [
    "df.to_csv('休眠标签.csv',index= False,encoding = 'gbk')"
   ]
  },
  {
   "cell_type": "code",
   "execution_count": null,
   "metadata": {},
   "outputs": [],
   "source": []
  }
 ],
 "metadata": {
  "kernelspec": {
   "display_name": "Python 3",
   "language": "python",
   "name": "python3"
  },
  "language_info": {
   "codemirror_mode": {
    "name": "ipython",
    "version": 3
   },
   "file_extension": ".py",
   "mimetype": "text/x-python",
   "name": "python",
   "nbconvert_exporter": "python",
   "pygments_lexer": "ipython3",
   "version": "3.6.4"
  }
 },
 "nbformat": 4,
 "nbformat_minor": 2
}
